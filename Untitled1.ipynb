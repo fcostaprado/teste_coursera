{
 "cells": [
  {
   "cell_type": "code",
   "execution_count": 1,
   "id": "1646a149-2ee4-4811-bebd-f5639253a1ac",
   "metadata": {},
   "outputs": [],
   "source": [
    "import numpy as np"
   ]
  },
  {
   "cell_type": "code",
   "execution_count": 2,
   "id": "0cd20d2f-26af-45f6-9c28-382488a02734",
   "metadata": {},
   "outputs": [],
   "source": [
    "lista = [1, 4, 6, 9]"
   ]
  },
  {
   "cell_type": "code",
   "execution_count": 3,
   "id": "478911fc-5079-422e-b847-e93b6e975fce",
   "metadata": {},
   "outputs": [],
   "source": [
    "np_array = np.array(lista)"
   ]
  },
  {
   "cell_type": "code",
   "execution_count": null,
   "id": "0a9442d3-bdbb-47bb-a9d8-a6a0ad77ed89",
   "metadata": {},
   "outputs": [],
   "source": []
  }
 ],
 "metadata": {
  "kernelspec": {
   "display_name": "Python 3 (ipykernel)",
   "language": "python",
   "name": "python3"
  },
  "language_info": {
   "codemirror_mode": {
    "name": "ipython",
    "version": 3
   },
   "file_extension": ".py",
   "mimetype": "text/x-python",
   "name": "python",
   "nbconvert_exporter": "python",
   "pygments_lexer": "ipython3",
   "version": "3.12.3"
  }
 },
 "nbformat": 4,
 "nbformat_minor": 5
}
